{
  "nbformat": 4,
  "nbformat_minor": 0,
  "metadata": {
    "colab": {
      "name": "인풋데이터 생성기.ipynb",
      "provenance": [],
      "collapsed_sections": []
    },
    "kernelspec": {
      "name": "python3",
      "display_name": "Python 3"
    },
    "language_info": {
      "name": "python"
    }
  },
  "cells": [
    {
      "cell_type": "code",
      "execution_count": 1,
      "metadata": {
        "colab": {
          "base_uri": "https://localhost:8080/"
        },
        "id": "8EDsbsc-jAxo",
        "outputId": "9ca070d5-5a13-4589-a54a-a17d3b0946bd"
      },
      "outputs": [
        {
          "output_type": "stream",
          "name": "stdout",
          "text": [
            "Downloading...\n",
            "From: https://drive.google.com/uc?id=1uBB1l_mrjf9LCWz0EqfqMe3uhD5LrX71\n",
            "To: /content/tokenizer_en.pickle\n",
            "\r  0% 0.00/2.61M [00:00<?, ?B/s]\r100% 2.61M/2.61M [00:00<00:00, 84.3MB/s]\n"
          ]
        }
      ],
      "source": [
        "!gdown 1uBB1l_mrjf9LCWz0EqfqMe3uhD5LrX71 # tokenizer_en"
      ]
    },
    {
      "cell_type": "code",
      "source": [
        "import pandas as pd\n",
        "import re\n",
        "import pickle\n",
        "from tensorflow.keras.preprocessing.sequence import pad_sequences"
      ],
      "metadata": {
        "id": "THBgjcNwjadU"
      },
      "execution_count": 30,
      "outputs": []
    },
    {
      "cell_type": "code",
      "source": [
        "samples = {\n",
        "    'col': [\n",
        "             'this is english.',\n",
        "             'this is great.',\n",
        "             'I am a good man.',\n",
        "             'You are a good woman too.'\n",
        "    ]\n",
        "}"
      ],
      "metadata": {
        "id": "3baLdNBVjkmC"
      },
      "execution_count": 18,
      "outputs": []
    },
    {
      "cell_type": "code",
      "source": [
        "data = pd.DataFrame(samples)"
      ],
      "metadata": {
        "id": "wZZlSjSfkAOd"
      },
      "execution_count": 19,
      "outputs": []
    },
    {
      "cell_type": "code",
      "source": [
        "len(data)"
      ],
      "metadata": {
        "colab": {
          "base_uri": "https://localhost:8080/"
        },
        "id": "QZp913w_k7jM",
        "outputId": "4ab6549d-25dc-422b-9931-564968e2df10"
      },
      "execution_count": 23,
      "outputs": [
        {
          "output_type": "execute_result",
          "data": {
            "text/plain": [
              "4"
            ]
          },
          "metadata": {},
          "execution_count": 23
        }
      ]
    },
    {
      "cell_type": "code",
      "execution_count": 20,
      "metadata": {
        "id": "ggCzDOIIfUBM"
      },
      "outputs": [],
      "source": [
        "def preprocess_sentence(sent):\n",
        "  # 단어와 구두점 사이에 공백을 만듭니다.\n",
        "  # Ex) \"he is a boy.\" => \"he is a boy .\"\n",
        "  sent = re.sub(r\"([?.!,¿])\", r\" \\1\", sent)\n",
        "\n",
        "  # (a-z, A-Z, \".\", \"?\", \"!\", \",\") 이들을 제외하고는 전부 공백으로 변환합니다.\n",
        "  sent = re.sub(r\"[^a-zA-Zㄱ-ㅎ가-힣!.?]+\", r\" \", sent)\n",
        "\n",
        "  # 다수 개의 공백을 하나의 공백으로 치환\n",
        "  sent = re.sub(r\"\\s+\", \" \", sent)\n",
        "  return sent"
      ]
    },
    {
      "cell_type": "code",
      "execution_count": 21,
      "metadata": {
        "id": "sL81dTbjfWFp"
      },
      "outputs": [],
      "source": [
        "def load_preprocessed_data(df, df_col_name):\n",
        "    \n",
        "    encoder_input = []\n",
        "\n",
        "    for i in range(int(len(df))):\n",
        "        # source 데이터와 target 데이터 분리\n",
        "        src_line = df[f'{df_col_name}'].iloc[i]\n",
        "        # source 데이터 전처리\n",
        "        src_line = [w for w in preprocess_sentence(src_line).split()]\n",
        "        src_line.reverse()\n",
        "\n",
        "        encoder_input.append(src_line)\n",
        "\n",
        "    return encoder_input"
      ]
    },
    {
      "cell_type": "code",
      "source": [
        "sents_en_in = load_preprocessed_data(data, 'col')\n",
        "sents_en_in"
      ],
      "metadata": {
        "id": "_wqZkfRPh9hx",
        "colab": {
          "base_uri": "https://localhost:8080/"
        },
        "outputId": "d0384b35-b190-4a29-cfa9-9225268333c1"
      },
      "execution_count": 25,
      "outputs": [
        {
          "output_type": "execute_result",
          "data": {
            "text/plain": [
              "[['.', 'english', 'is', 'this'],\n",
              " ['.', 'great', 'is', 'this'],\n",
              " ['.', 'man', 'good', 'a', 'am', 'I'],\n",
              " ['.', 'too', 'woman', 'good', 'a', 'are', 'You']]"
            ]
          },
          "metadata": {},
          "execution_count": 25
        }
      ]
    },
    {
      "cell_type": "code",
      "source": [
        "with open(\"tokenizer_en.pickle\",\"rb\") as fr:\n",
        "    tokenizer_en = pickle.load(fr)"
      ],
      "metadata": {
        "id": "gPwHqupUiSgs"
      },
      "execution_count": 27,
      "outputs": []
    },
    {
      "cell_type": "code",
      "source": [
        "encoder_input = tokenizer_en.texts_to_sequences(sents_en_in)"
      ],
      "metadata": {
        "id": "McUjN3PvinV-"
      },
      "execution_count": 28,
      "outputs": []
    },
    {
      "cell_type": "code",
      "source": [
        "encoder_input"
      ],
      "metadata": {
        "colab": {
          "base_uri": "https://localhost:8080/"
        },
        "id": "4Qz9QJZhlUCH",
        "outputId": "dd71a7d2-27fe-4e94-ad6c-8c5379c978e8"
      },
      "execution_count": 29,
      "outputs": [
        {
          "output_type": "execute_result",
          "data": {
            "text/plain": [
              "[[1, 9493, 7, 25],\n",
              " [1, 240, 7, 25],\n",
              " [1, 348, 66, 5, 51, 3],\n",
              " [1, 131, 480, 66, 5, 18, 50]]"
            ]
          },
          "metadata": {},
          "execution_count": 29
        }
      ]
    },
    {
      "cell_type": "code",
      "source": [
        "encoder_input = pad_sequences(encoder_input, padding='post', maxlen=51) # maxlen 51?"
      ],
      "metadata": {
        "id": "LSTs2TpBinaH"
      },
      "execution_count": 31,
      "outputs": []
    },
    {
      "cell_type": "code",
      "source": [
        "encoder_input"
      ],
      "metadata": {
        "id": "SmIpbd8eineG",
        "colab": {
          "base_uri": "https://localhost:8080/"
        },
        "outputId": "2e65fc23-0bf7-45d5-9fbf-6766ec64ee76"
      },
      "execution_count": 32,
      "outputs": [
        {
          "output_type": "execute_result",
          "data": {
            "text/plain": [
              "array([[   1, 9493,    7,   25,    0,    0,    0,    0,    0,    0,    0,\n",
              "           0,    0,    0,    0,    0,    0,    0,    0,    0,    0,    0,\n",
              "           0,    0,    0,    0,    0,    0,    0,    0,    0,    0,    0,\n",
              "           0,    0,    0,    0,    0,    0,    0,    0,    0,    0,    0,\n",
              "           0,    0,    0,    0,    0,    0,    0],\n",
              "       [   1,  240,    7,   25,    0,    0,    0,    0,    0,    0,    0,\n",
              "           0,    0,    0,    0,    0,    0,    0,    0,    0,    0,    0,\n",
              "           0,    0,    0,    0,    0,    0,    0,    0,    0,    0,    0,\n",
              "           0,    0,    0,    0,    0,    0,    0,    0,    0,    0,    0,\n",
              "           0,    0,    0,    0,    0,    0,    0],\n",
              "       [   1,  348,   66,    5,   51,    3,    0,    0,    0,    0,    0,\n",
              "           0,    0,    0,    0,    0,    0,    0,    0,    0,    0,    0,\n",
              "           0,    0,    0,    0,    0,    0,    0,    0,    0,    0,    0,\n",
              "           0,    0,    0,    0,    0,    0,    0,    0,    0,    0,    0,\n",
              "           0,    0,    0,    0,    0,    0,    0],\n",
              "       [   1,  131,  480,   66,    5,   18,   50,    0,    0,    0,    0,\n",
              "           0,    0,    0,    0,    0,    0,    0,    0,    0,    0,    0,\n",
              "           0,    0,    0,    0,    0,    0,    0,    0,    0,    0,    0,\n",
              "           0,    0,    0,    0,    0,    0,    0,    0,    0,    0,    0,\n",
              "           0,    0,    0,    0,    0,    0,    0]], dtype=int32)"
            ]
          },
          "metadata": {},
          "execution_count": 32
        }
      ]
    }
  ]
}